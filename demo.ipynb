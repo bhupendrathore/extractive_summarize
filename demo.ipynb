{
 "cells": [
  {
   "cell_type": "code",
   "execution_count": 2,
   "id": "a74e9e96-3272-4ff4-98b4-c4bda3d7f5c6",
   "metadata": {
    "tags": []
   },
   "outputs": [],
   "source": [
    "# !pip install -r req.txt"
   ]
  },
  {
   "cell_type": "code",
   "execution_count": 133,
   "id": "65f521e5-f7ae-4101-871f-2faa0764f736",
   "metadata": {},
   "outputs": [],
   "source": [
    "import math"
   ]
  },
  {
   "cell_type": "code",
   "execution_count": 61,
   "id": "cb991eea-bb04-4939-8104-13dfb7b381d1",
   "metadata": {},
   "outputs": [],
   "source": [
    "from nltk.tokenize import sent_tokenize\n",
    "import pandas as pd"
   ]
  },
  {
   "cell_type": "code",
   "execution_count": null,
   "id": "cb195eaa-75e6-478a-b75a-1385226b95a3",
   "metadata": {},
   "outputs": [],
   "source": [
    "pd.set_option()"
   ]
  },
  {
   "cell_type": "code",
   "execution_count": 124,
   "id": "6784ca50-02c0-42bd-a443-f81097952daa",
   "metadata": {},
   "outputs": [],
   "source": [
    "pd.set_option(\"display.max_colwidth\",0)"
   ]
  },
  {
   "cell_type": "code",
   "execution_count": 62,
   "id": "c7d0d6e3-3742-48f9-b326-2bd1ae47789c",
   "metadata": {},
   "outputs": [],
   "source": [
    "from sentence_transformers import SentenceTransformer, util"
   ]
  },
  {
   "cell_type": "code",
   "execution_count": null,
   "id": "a94c2a69-4e3f-48d0-9efa-296ee907abcd",
   "metadata": {},
   "outputs": [],
   "source": []
  },
  {
   "cell_type": "code",
   "execution_count": 260,
   "id": "90aad946-f8b7-4dc9-ac40-8dd76f4a2c77",
   "metadata": {},
   "outputs": [],
   "source": [
    "class ClusterData:\n",
    "    def __init__(self,model,community_threshold):\n",
    "        self.model = model\n",
    "        self.comm_thresh = community_threshold\n",
    "    \n",
    "    def do_cluster(self,request_id,input_sents:pd.DataFrame):\n",
    "        try:\n",
    "            if input_sents.shape[0]>0:\n",
    "                sents = input_sents.text.tolist()\n",
    "                embeddings = self.model.encode(sents,batch_size=32,convert_to_tensor=True)\n",
    "                cluster_ind = util.community_detection(embeddings,threshold=self.comm_thresh,\n",
    "                                        min_community_size=1)\n",
    "                input_sents[\"cluster\"]=None\n",
    "                for i, ind in enumerate(cluster_ind):\n",
    "                    input_sents.loc[ind,\"cluster\"]= i\n",
    "                input_sents.cluster.fillna(-1,inplace=True)\n",
    "                return input_sents\n",
    "\n",
    "            else:\n",
    "                    return input_sents\n",
    "        except Exception as e:\n",
    "            print(f\"clustering failed with err {e}\")\n",
    "            return input_sents\n",
    "            \n",
    "        "
   ]
  },
  {
   "cell_type": "code",
   "execution_count": 82,
   "id": "df625ce2-58c4-4f3c-a08c-90a2efec69e8",
   "metadata": {},
   "outputs": [],
   "source": [
    "# sent_tokenize(\"how are you? i never met you before\")"
   ]
  },
  {
   "cell_type": "code",
   "execution_count": 83,
   "id": "752ac04c-68ae-44c6-8dc7-d4c7152e1f2d",
   "metadata": {},
   "outputs": [],
   "source": [
    "# # get cluster \n",
    "# select sentence \n",
    "# handle single cluster\n",
    "\n",
    "# do till word limit are not maced"
   ]
  },
  {
   "cell_type": "code",
   "execution_count": 84,
   "id": "a3ac0e6c-aae7-43ac-bbbb-f532ffda2de8",
   "metadata": {},
   "outputs": [],
   "source": [
    "text = '''The Chrysler Building, the famous art deco New York skyscraper, will be sold for a small fraction of its previous sales price.\n",
    "    The deal, first reported by The Real Deal, was for $150 million, according to a source familiar with the deal.\n",
    "    Mubadala, an Abu Dhabi investment fund, purchased 90% of the building for $800 million in 2008.\n",
    "    Real estate firm Tishman Speyer had owned the other 10%.\n",
    "    The buyer is RFR Holding, a New York real estate company.\n",
    "    Officials with Tishman and RFR did not immediately respond to a request for comments.\n",
    "    It's unclear when the deal will close.\n",
    "    The building sold fairly quickly after being publicly placed on the market only two months ago.\n",
    "    The sale was handled by CBRE Group.\n",
    "    The incentive to sell the building at such a huge loss was due to the soaring rent the owners pay to Cooper Union, a New York college, for the land under the building.\n",
    "    The rent is rising from $7.75 million last year to $32.5 million this year to $41 million in 2028.\n",
    "    Meantime, rents in the building itself are not rising nearly that fast.\n",
    "    While the building is an iconic landmark in the New York skyline, it is competing against newer office towers with large floor-to-ceiling windows and all the modern amenities.\n",
    "    Still the building is among the best known in the city, even to people who have never been to New York.\n",
    "    It is famous for its triangle-shaped, vaulted windows worked into the stylized crown, along with its distinctive eagle gargoyles near the top.\n",
    "    It has been featured prominently in many films, including Men in Black 3, Spider-Man, Armageddon, Two Weeks Notice and Independence Day.\n",
    "    The previous sale took place just before the 2008 financial meltdown led to a plunge in real estate prices.\n",
    "    Still there have been a number of high profile skyscrapers purchased for top dollar in recent years, including the Waldorf Astoria hotel, which Chinese firm Anbang Insurance purchased in 2016 for nearly $2 billion, and the Willis Tower in Chicago, which was formerly known as Sears Tower, once the world's tallest.\n",
    "    Blackstone Group (BX) bought it for $1.3 billion 2015.\n",
    "    The Chrysler Building was the headquarters of the American automaker until 1953, but it was named for and owned by Chrysler chief Walter Chrysler, not the company itself.\n",
    "    Walter Chrysler had set out to build the tallest building in the world, a competition at that time with another Manhattan skyscraper under construction at 40 Wall Street at the south end of Manhattan. He kept secret the plans for the spire that would grace the top of the building, building it inside the structure and out of view of the public until 40 Wall Street was complete.\n",
    "    Once the competitor could rise no higher, the spire of the Chrysler building was raised into view, giving it the title.\n",
    "'''"
   ]
  },
  {
   "cell_type": "code",
   "execution_count": null,
   "id": "25fa1418-cf79-4dcc-b2b6-1eec7ee74549",
   "metadata": {},
   "outputs": [],
   "source": []
  },
  {
   "cell_type": "code",
   "execution_count": 65,
   "id": "97c1a2b5-a520-4e2b-9bab-504bc130357f",
   "metadata": {},
   "outputs": [],
   "source": [
    "sents = nltk.sent_tokenize(text)"
   ]
  },
  {
   "cell_type": "code",
   "execution_count": 232,
   "id": "e4a78389-1200-4e29-a28e-d07238c27afc",
   "metadata": {},
   "outputs": [],
   "source": [
    "sent_df = pd.DataFrame(sents,columns=[\"text\"]).reset_index()"
   ]
  },
  {
   "cell_type": "code",
   "execution_count": 92,
   "id": "950a2609-b33d-4eba-889b-47c0a6e434ca",
   "metadata": {
    "tags": []
   },
   "outputs": [],
   "source": [
    "model = SentenceTransformer(\"sentence-transformers/all-MiniLM-L6-v2\")"
   ]
  },
  {
   "cell_type": "code",
   "execution_count": 261,
   "id": "9113ce61-6467-4cc0-be97-ef08f9e27748",
   "metadata": {},
   "outputs": [],
   "source": [
    "cluster_obj = ClusterData(model,0.4)"
   ]
  },
  {
   "cell_type": "code",
   "execution_count": 112,
   "id": "82e9ffc4-a912-403c-a24c-aea756a01042",
   "metadata": {},
   "outputs": [
    {
     "data": {
      "text/plain": [
       "tensor([[0.3535]])"
      ]
     },
     "execution_count": 112,
     "metadata": {},
     "output_type": "execute_result"
    }
   ],
   "source": [
    "util.cos_sim(model.encode(sents[0]),model.encode(sents[9]))"
   ]
  },
  {
   "cell_type": "code",
   "execution_count": 288,
   "id": "6e02a4aa-6ded-498e-a56c-28f49bbda78b",
   "metadata": {},
   "outputs": [],
   "source": [
    "# df = cluster_obj.do_cluster(1,sent_df)"
   ]
  },
  {
   "cell_type": "code",
   "execution_count": 216,
   "id": "8922f823-0073-4734-95b6-1061b0591824",
   "metadata": {},
   "outputs": [],
   "source": [
    "# df.sort_values(by=\"cluster\")"
   ]
  },
  {
   "cell_type": "code",
   "execution_count": 235,
   "id": "60b2fd3b-0688-41ee-b671-af8a4e5430df",
   "metadata": {},
   "outputs": [],
   "source": [
    "# sent_df"
   ]
  },
  {
   "cell_type": "code",
   "execution_count": 139,
   "id": "206828df-18b6-42d3-a2f8-c49ba2ca6db1",
   "metadata": {},
   "outputs": [],
   "source": [
    "ratio = 0.25"
   ]
  },
  {
   "cell_type": "code",
   "execution_count": 140,
   "id": "9f83710c-df59-427a-be95-7ac745ae278b",
   "metadata": {},
   "outputs": [],
   "source": [
    "filter_n = math.floor(ratio * sent_df.shape[0])"
   ]
  },
  {
   "cell_type": "code",
   "execution_count": 142,
   "id": "4cb28bbb-2c59-43fb-87b7-240ffb18c859",
   "metadata": {},
   "outputs": [],
   "source": [
    "candidates = pd.DataFrame(columns=sent_df.columns)\n",
    "# candidates_unique"
   ]
  },
  {
   "cell_type": "code",
   "execution_count": 151,
   "id": "21de536a-1f95-46ba-af87-f6cb33d2ec09",
   "metadata": {},
   "outputs": [],
   "source": [
    "cluster_count = sent_df.cluster.value_counts().to_frame().reset_index()"
   ]
  },
  {
   "cell_type": "code",
   "execution_count": 154,
   "id": "9e7dd1a4-df67-49bc-a4f0-8319fe352b6b",
   "metadata": {},
   "outputs": [],
   "source": [
    "cluster_count.columns = [\"cluster\",\"count\"]"
   ]
  },
  {
   "cell_type": "code",
   "execution_count": 158,
   "id": "b26d99d7-c5ee-4497-974b-3cf52245bc4c",
   "metadata": {},
   "outputs": [],
   "source": [
    "sent_df = sent_df.merge(cluster_count)"
   ]
  },
  {
   "cell_type": "code",
   "execution_count": 282,
   "id": "4aa4f75a-bc40-4473-aeed-03f2f0fb9fcb",
   "metadata": {},
   "outputs": [],
   "source": [
    "# unique_cadidates = sent_df[sent_df['count']==1].reset_index(drop=True)"
   ]
  },
  {
   "cell_type": "code",
   "execution_count": 283,
   "id": "d3f15d60-9dd2-4835-85de-869a8da127e0",
   "metadata": {},
   "outputs": [],
   "source": [
    "class SummExtract:\n",
    "    def __init__(self,cluster_obj,model):\n",
    "        self.cluster_obj = cluster_obj\n",
    "        self.model = model\n",
    "\n",
    "        \n",
    "    def summerize(self,text,ratio=0.25):\n",
    "        sents = nltk.sent_tokenize(text)\n",
    "        sent_df = pd.DataFrame(sents,columns=[\"text\"]).reset_index()\n",
    "        \n",
    "        filter_n = math.floor(ratio * sent_df.shape[0])\n",
    "        sent_df = cluster_obj.do_cluster(1,sent_df)\n",
    "        # print(sent_df)\n",
    "        if \"cluster\" in sent_df.columns:\n",
    "            candidates = pd.DataFrame(columns=sent_df.columns)\n",
    "            cluster_count = sent_df.cluster.value_counts().to_frame().reset_index()\n",
    "            cluster_count.columns = [\"cluster\",\"count\"]\n",
    "            sent_df = sent_df.merge(cluster_count)\n",
    "    \n",
    "            n = 0\n",
    "            while candidates.shape[0] <filter_n:\n",
    "                temp = sent_df[sent_df.cluster==n]\n",
    "                if temp.shape[0]>1:\n",
    "                    candidates = pd.concat([candidates,temp.iloc[:1]])\n",
    "                n+=1\n",
    "\n",
    "            centroids = candidates.text.tolist()\n",
    "            unique_cadidates = sent_df[sent_df['count']==1].reset_index(drop=True)\n",
    "            if candidates.shape[0]<filter_n:\n",
    "                if len(centroids)>0:\n",
    "                    sim_scores = util.cos_sim(self.model.encode(unique_cadidates.text.tolist()),model.encode(centroids))\n",
    "                    order_to_select = sim_scores.mean(axis=1).argsort(descending=True)\n",
    "                    ind = 0\n",
    "                    while candidates.shape[0]<filter_n:\n",
    "                        item = order_to_select[ind].item()\n",
    "                        candidates = pd.concat([candidates,unique_cadidates[item:item+1]])\n",
    "                        ind+=1\n",
    "                else:\n",
    "\n",
    "                    embeds = self.model.encode(unique_cadidates.text.to_list())\n",
    "                    sim_scores = util.cos_sim(embeds,embeds)\n",
    "                    for i in range(sim_scores.shape[0]):\n",
    "                        sim_scores[i][i]=0\n",
    "                    order_to_select = sim_scores.mean(axis=1).argsort(descending=True)\n",
    "                    ind = 0\n",
    "                    while candidates.shape[0]<filter_n:\n",
    "                        item = order_to_select[ind].item()\n",
    "                        candidates = pd.concat([candidates,unique_cadidates[item:item+1]])\n",
    "                        ind+=1\n",
    "            candidates = candidates.sort_values(by=\"index\")\n",
    "\n",
    "            return \" \".join(candidates.text.tolist())\n",
    "\n",
    "        else:\n",
    "            print(\"failed\")\n",
    "            return \"\"\n",
    "            \n",
    "        \n",
    "        \n",
    "        \n",
    "        "
   ]
  },
  {
   "cell_type": "code",
   "execution_count": 284,
   "id": "beca8d4b-4315-44da-96cd-7bed6a2a1bbd",
   "metadata": {},
   "outputs": [],
   "source": [
    "obj = SummExtract(cluster_obj,model)"
   ]
  },
  {
   "cell_type": "code",
   "execution_count": 286,
   "id": "e013548a-1580-4dc7-b7af-ad967c71d968",
   "metadata": {},
   "outputs": [
    {
     "data": {
      "text/plain": [
       "\"The Chrysler Building, the famous art deco New York skyscraper, will be sold for a small fraction of its previous sales price. The deal, first reported by The Real Deal, was for $150 million, according to a source familiar with the deal. The incentive to sell the building at such a huge loss was due to the soaring rent the owners pay to Cooper Union, a New York college, for the land under the building. Meantime, rents in the building itself are not rising nearly that fast. Still there have been a number of high profile skyscrapers purchased for top dollar in recent years, including the Waldorf Astoria hotel, which Chinese firm Anbang Insurance purchased in 2016 for nearly $2 billion, and the Willis Tower in Chicago, which was formerly known as Sears Tower, once the world's tallest.\""
      ]
     },
     "execution_count": 286,
     "metadata": {},
     "output_type": "execute_result"
    }
   ],
   "source": [
    "obj.summerize(text)"
   ]
  },
  {
   "cell_type": "code",
   "execution_count": 287,
   "id": "0681c965-08de-43df-a598-faea11eeca4a",
   "metadata": {},
   "outputs": [
    {
     "data": {
      "text/plain": [
       "\"The Chrysler Building, the famous art deco New York skyscraper, will be sold for a small fraction of its previous sales price.\\n    The deal, first reported by The Real Deal, was for $150 million, according to a source familiar with the deal.\\n    Mubadala, an Abu Dhabi investment fund, purchased 90% of the building for $800 million in 2008.\\n    Real estate firm Tishman Speyer had owned the other 10%.\\n    The buyer is RFR Holding, a New York real estate company.\\n    Officials with Tishman and RFR did not immediately respond to a request for comments.\\n    It's unclear when the deal will close.\\n    The building sold fairly quickly after being publicly placed on the market only two months ago.\\n    The sale was handled by CBRE Group.\\n    The incentive to sell the building at such a huge loss was due to the soaring rent the owners pay to Cooper Union, a New York college, for the land under the building.\\n    The rent is rising from $7.75 million last year to $32.5 million this year to $41 million in 2028.\\n    Meantime, rents in the building itself are not rising nearly that fast.\\n    While the building is an iconic landmark in the New York skyline, it is competing against newer office towers with large floor-to-ceiling windows and all the modern amenities.\\n    Still the building is among the best known in the city, even to people who have never been to New York.\\n    It is famous for its triangle-shaped, vaulted windows worked into the stylized crown, along with its distinctive eagle gargoyles near the top.\\n    It has been featured prominently in many films, including Men in Black 3, Spider-Man, Armageddon, Two Weeks Notice and Independence Day.\\n    The previous sale took place just before the 2008 financial meltdown led to a plunge in real estate prices.\\n    Still there have been a number of high profile skyscrapers purchased for top dollar in recent years, including the Waldorf Astoria hotel, which Chinese firm Anbang Insurance purchased in 2016 for nearly $2 billion, and the Willis Tower in Chicago, which was formerly known as Sears Tower, once the world's tallest.\\n    Blackstone Group (BX) bought it for $1.3 billion 2015.\\n    The Chrysler Building was the headquarters of the American automaker until 1953, but it was named for and owned by Chrysler chief Walter Chrysler, not the company itself.\\n    Walter Chrysler had set out to build the tallest building in the world, a competition at that time with another Manhattan skyscraper under construction at 40 Wall Street at the south end of Manhattan. He kept secret the plans for the spire that would grace the top of the building, building it inside the structure and out of view of the public until 40 Wall Street was complete.\\n    Once the competitor could rise no higher, the spire of the Chrysler building was raised into view, giving it the title.\\n\""
      ]
     },
     "execution_count": 287,
     "metadata": {},
     "output_type": "execute_result"
    }
   ],
   "source": [
    "text"
   ]
  },
  {
   "cell_type": "code",
   "execution_count": null,
   "id": "b07fa22b-e960-4545-860f-e2c472ec0a8d",
   "metadata": {},
   "outputs": [],
   "source": []
  }
 ],
 "metadata": {
  "kernelspec": {
   "display_name": "Python 3 (ipykernel)",
   "language": "python",
   "name": "python3"
  },
  "language_info": {
   "codemirror_mode": {
    "name": "ipython",
    "version": 3
   },
   "file_extension": ".py",
   "mimetype": "text/x-python",
   "name": "python",
   "nbconvert_exporter": "python",
   "pygments_lexer": "ipython3",
   "version": "3.9.13"
  }
 },
 "nbformat": 4,
 "nbformat_minor": 5
}
